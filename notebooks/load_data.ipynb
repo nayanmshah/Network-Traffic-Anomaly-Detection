{
 "cells": [
  {
   "cell_type": "code",
   "execution_count": 12,
   "metadata": {},
   "outputs": [
    {
     "name": "stdout",
     "output_type": "stream",
     "text": [
      "   duration protocol_type service flag  src_bytes  dst_bytes  land  \\\n",
      "0         0           tcp    http   SF        215      45076     0   \n",
      "1         0           tcp    http   SF        162       4528     0   \n",
      "2         0           tcp    http   SF        236       1228     0   \n",
      "3         0           tcp    http   SF        233       2032     0   \n",
      "4         0           tcp    http   SF        239        486     0   \n",
      "\n",
      "   wrong_fragment  urgent  hot  ...  dst_host_srv_count  \\\n",
      "0               0       0    0  ...                   0   \n",
      "1               0       0    0  ...                   1   \n",
      "2               0       0    0  ...                   2   \n",
      "3               0       0    0  ...                   3   \n",
      "4               0       0    0  ...                   4   \n",
      "\n",
      "   dst_host_same_srv_rate  dst_host_diff_srv_rate  \\\n",
      "0                     0.0                     0.0   \n",
      "1                     1.0                     0.0   \n",
      "2                     1.0                     0.0   \n",
      "3                     1.0                     0.0   \n",
      "4                     1.0                     0.0   \n",
      "\n",
      "   dst_host_same_src_port_rate  dst_host_srv_diff_host_rate  \\\n",
      "0                         0.00                          0.0   \n",
      "1                         1.00                          0.0   \n",
      "2                         0.50                          0.0   \n",
      "3                         0.33                          0.0   \n",
      "4                         0.25                          0.0   \n",
      "\n",
      "   dst_host_serror_rate  dst_host_srv_serror_rate  dst_host_rerror_rate  \\\n",
      "0                   0.0                       0.0                   0.0   \n",
      "1                   0.0                       0.0                   0.0   \n",
      "2                   0.0                       0.0                   0.0   \n",
      "3                   0.0                       0.0                   0.0   \n",
      "4                   0.0                       0.0                   0.0   \n",
      "\n",
      "   dst_host_srv_rerror_rate    class  \n",
      "0                       0.0  normal.  \n",
      "1                       0.0  normal.  \n",
      "2                       0.0  normal.  \n",
      "3                       0.0  normal.  \n",
      "4                       0.0  normal.  \n",
      "\n",
      "[5 rows x 42 columns]\n"
     ]
    }
   ],
   "source": [
    "import pandas as pd\n",
    "\n",
    "# Define the path to the dataset files (assuming data/ is the folder containing them)\n",
    "data_file_path = '~/github/ai/Network-Traffic-Anomaly-Detection/data/kddcup.data/kddcup.data'\n",
    "\n",
    "# Set the column names based on the dataset documentation (kddcup.names)\n",
    "column_names = [\n",
    "    'duration', 'protocol_type', 'service', 'flag', 'src_bytes', 'dst_bytes', \n",
    "    'land', 'wrong_fragment', 'urgent', 'hot', 'num_failed_logins', 'logged_in', \n",
    "    'num_compromised', 'root_shell', 'su_attempted', 'num_root', 'num_file_creations', \n",
    "    'num_shells', 'num_access_files', 'num_outbound_cmds', 'is_host_login', \n",
    "    'is_guest_login', 'count', 'srv_count', 'serror_rate', 'srv_serror_rate', \n",
    "    'rerror_rate', 'srv_rerror_rate', 'same_srv_rate', 'diff_srv_rate', \n",
    "    'srv_diff_host_rate', 'dst_host_count', 'dst_host_srv_count', \n",
    "    'dst_host_same_srv_rate', 'dst_host_diff_srv_rate', 'dst_host_same_src_port_rate', \n",
    "    'dst_host_srv_diff_host_rate', 'dst_host_serror_rate', 'dst_host_srv_serror_rate', \n",
    "    'dst_host_rerror_rate', 'dst_host_srv_rerror_rate', 'class'\n",
    "]\n",
    "\n",
    "# Load the training data into a DataFrame\n",
    "data = pd.read_csv(data_file_path, header=None, names=column_names)\n",
    "\n",
    "# Display the first few rows to verify the data\n",
    "print(data.head())\n"
   ]
  }
 ],
 "metadata": {
  "kernelspec": {
   "display_name": "Python 3 (ipykernel)",
   "language": "python",
   "name": "python3"
  },
  "language_info": {
   "codemirror_mode": {
    "name": "ipython",
    "version": 3
   },
   "file_extension": ".py",
   "mimetype": "text/x-python",
   "name": "python",
   "nbconvert_exporter": "python",
   "pygments_lexer": "ipython3",
   "version": "3.13.2"
  }
 },
 "nbformat": 4,
 "nbformat_minor": 2
}
